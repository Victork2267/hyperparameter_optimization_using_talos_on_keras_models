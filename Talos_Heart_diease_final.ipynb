{
 "cells": [
  {
   "cell_type": "markdown",
   "metadata": {},
   "source": [
    "# Keras Deep Learning Model hyperparameter optimization using talos "
   ]
  },
  {
   "cell_type": "markdown",
   "metadata": {},
   "source": [
    "As machine learning progresses throughout the years, Deep learning is becoming more popular machine learning method not only when applying it in image classification tasks but also normal tabular data. Despite all the advantages and hype of deep learning,\n",
    "it shares one limitation with traditional machine learning models, hyperparameter optimization. The selection of values for the \n",
    "hyperparameters of models like logistical regression, k-means, e.t.c are usually based on trial and error till we get a\n",
    "suitable value for our evaluation metric of our choosing. Deep learning models are no different, In the case of keras, when\n",
    "we build models, we have to fine-tune hyperparameters like batch size, number of epochs, optimizer used in order to get a acceptable evaluation metric value.Of course, one of the more effcient ways we can go about hyperparameter optimization would be to\n",
    "use tools like gridsearchCV and randomsearchCV but in the case of deep learning models using keras to build either Recurrent Neural Networks (RNNs) or Convulusion Neural Networks (CNNs),\n",
    "we can use a hyperparameter optimization library called talos to fine tune these hyperparameters. In a demonstration below, the Heart Disease UCI dataset by from kaggle will be used to demonstrate how talos can be used to make hyperparameter optimization more efficient than compared to the standard trial and error"
   ]
  },
  {
   "cell_type": "markdown",
   "metadata": {},
   "source": [
    "# Loading the Heart_diease dataset"
   ]
  },
  {
   "cell_type": "markdown",
   "metadata": {},
   "source": [
    "Importing the neccessary modules for preprocessing"
   ]
  },
  {
   "cell_type": "code",
   "execution_count": 45,
   "metadata": {},
   "outputs": [],
   "source": [
    "import numpy as np\n",
    "import pandas as pd\n",
    "import matplotlib.pyplot as plt\n",
    "%matplotlib inline\n",
    "import seaborn as sns\n",
    "\n",
    "from sklearn.preprocessing import StandardScaler\n",
    "from sklearn.model_selection import train_test_split"
   ]
  },
  {
   "cell_type": "markdown",
   "metadata": {},
   "source": [
    "Loading up the dataset"
   ]
  },
  {
   "cell_type": "code",
   "execution_count": 15,
   "metadata": {},
   "outputs": [],
   "source": [
    "df = pd.read_csv(r\"heart_diease_data.csv\")"
   ]
  },
  {
   "cell_type": "markdown",
   "metadata": {},
   "source": [
    "# Some exploratory data analysis"
   ]
  },
  {
   "cell_type": "markdown",
   "metadata": {},
   "source": [
    "So as we can see below, the data contains some factors such as age, sex, e.t.c that might affect the 'target' value to be either 0 or 1. "
   ]
  },
  {
   "cell_type": "code",
   "execution_count": 42,
   "metadata": {
    "scrolled": true
   },
   "outputs": [
    {
     "data": {
      "text/html": [
       "<div>\n",
       "<style scoped>\n",
       "    .dataframe tbody tr th:only-of-type {\n",
       "        vertical-align: middle;\n",
       "    }\n",
       "\n",
       "    .dataframe tbody tr th {\n",
       "        vertical-align: top;\n",
       "    }\n",
       "\n",
       "    .dataframe thead th {\n",
       "        text-align: right;\n",
       "    }\n",
       "</style>\n",
       "<table border=\"1\" class=\"dataframe\">\n",
       "  <thead>\n",
       "    <tr style=\"text-align: right;\">\n",
       "      <th></th>\n",
       "      <th>age</th>\n",
       "      <th>sex</th>\n",
       "      <th>cp</th>\n",
       "      <th>trestbps</th>\n",
       "      <th>chol</th>\n",
       "      <th>fbs</th>\n",
       "      <th>restecg</th>\n",
       "      <th>thalach</th>\n",
       "      <th>exang</th>\n",
       "      <th>oldpeak</th>\n",
       "      <th>slope</th>\n",
       "      <th>ca</th>\n",
       "      <th>thal</th>\n",
       "      <th>target</th>\n",
       "    </tr>\n",
       "  </thead>\n",
       "  <tbody>\n",
       "    <tr>\n",
       "      <th>0</th>\n",
       "      <td>63</td>\n",
       "      <td>1</td>\n",
       "      <td>3</td>\n",
       "      <td>145</td>\n",
       "      <td>233</td>\n",
       "      <td>1</td>\n",
       "      <td>0</td>\n",
       "      <td>150</td>\n",
       "      <td>0</td>\n",
       "      <td>2.3</td>\n",
       "      <td>0</td>\n",
       "      <td>0</td>\n",
       "      <td>1</td>\n",
       "      <td>1</td>\n",
       "    </tr>\n",
       "    <tr>\n",
       "      <th>1</th>\n",
       "      <td>37</td>\n",
       "      <td>1</td>\n",
       "      <td>2</td>\n",
       "      <td>130</td>\n",
       "      <td>250</td>\n",
       "      <td>0</td>\n",
       "      <td>1</td>\n",
       "      <td>187</td>\n",
       "      <td>0</td>\n",
       "      <td>3.5</td>\n",
       "      <td>0</td>\n",
       "      <td>0</td>\n",
       "      <td>2</td>\n",
       "      <td>1</td>\n",
       "    </tr>\n",
       "    <tr>\n",
       "      <th>2</th>\n",
       "      <td>41</td>\n",
       "      <td>0</td>\n",
       "      <td>1</td>\n",
       "      <td>130</td>\n",
       "      <td>204</td>\n",
       "      <td>0</td>\n",
       "      <td>0</td>\n",
       "      <td>172</td>\n",
       "      <td>0</td>\n",
       "      <td>1.4</td>\n",
       "      <td>2</td>\n",
       "      <td>0</td>\n",
       "      <td>2</td>\n",
       "      <td>1</td>\n",
       "    </tr>\n",
       "    <tr>\n",
       "      <th>3</th>\n",
       "      <td>56</td>\n",
       "      <td>1</td>\n",
       "      <td>1</td>\n",
       "      <td>120</td>\n",
       "      <td>236</td>\n",
       "      <td>0</td>\n",
       "      <td>1</td>\n",
       "      <td>178</td>\n",
       "      <td>0</td>\n",
       "      <td>0.8</td>\n",
       "      <td>2</td>\n",
       "      <td>0</td>\n",
       "      <td>2</td>\n",
       "      <td>1</td>\n",
       "    </tr>\n",
       "    <tr>\n",
       "      <th>4</th>\n",
       "      <td>57</td>\n",
       "      <td>0</td>\n",
       "      <td>0</td>\n",
       "      <td>120</td>\n",
       "      <td>354</td>\n",
       "      <td>0</td>\n",
       "      <td>1</td>\n",
       "      <td>163</td>\n",
       "      <td>1</td>\n",
       "      <td>0.6</td>\n",
       "      <td>2</td>\n",
       "      <td>0</td>\n",
       "      <td>2</td>\n",
       "      <td>1</td>\n",
       "    </tr>\n",
       "  </tbody>\n",
       "</table>\n",
       "</div>"
      ],
      "text/plain": [
       "   age  sex  cp  trestbps  chol  fbs  restecg  thalach  exang  oldpeak  slope  \\\n",
       "0   63    1   3       145   233    1        0      150      0      2.3      0   \n",
       "1   37    1   2       130   250    0        1      187      0      3.5      0   \n",
       "2   41    0   1       130   204    0        0      172      0      1.4      2   \n",
       "3   56    1   1       120   236    0        1      178      0      0.8      2   \n",
       "4   57    0   0       120   354    0        1      163      1      0.6      2   \n",
       "\n",
       "   ca  thal  target  \n",
       "0   0     1       1  \n",
       "1   0     2       1  \n",
       "2   0     2       1  \n",
       "3   0     2       1  \n",
       "4   0     2       1  "
      ]
     },
     "execution_count": 42,
     "metadata": {},
     "output_type": "execute_result"
    }
   ],
   "source": [
    "df.head()"
   ]
  },
  {
   "cell_type": "code",
   "execution_count": 47,
   "metadata": {
    "scrolled": true
   },
   "outputs": [
    {
     "data": {
      "image/png": "[encoded data removed]",
      "text/plain": [
       "<matplotlib.figure.Figure at 0x24e41333c50>"
      ]
     },
     "metadata": {},
     "output_type": "display_data"
    }
   ],
   "source": [
    "# Some distribution plots\n",
    "\n",
    "f, axes = plt.subplots(2, 2, figsize=(10, 10)) #sharex=True)\n",
    "sns.distplot(df[\"age\"][df[\"target\"]==1], color=\"red\", label=\"heart diease\", ax=axes[0, 0])\n",
    "sns.distplot(df[\"age\"][df[\"target\"]==0] , color=\"skyblue\", label=\"No heart diease\", ax=axes[0, 0])\n",
    "\n",
    "sns.distplot(df[\"chol\"][df[\"target\"]==1], color=\"red\", label=\"heart diease\", ax=axes[0, 1])\n",
    "sns.distplot(df[\"chol\"][df[\"target\"]==0] , color=\"skyblue\", label=\"No heart diease\", ax=axes[0, 1])\n",
    "\n",
    "sns.distplot(df[\"thalach\"][df[\"target\"]==1], color=\"red\", label=\"heart diease\", ax=axes[1, 0])\n",
    "sns.distplot(df[\"thalach\"][df[\"target\"]==0] , color=\"skyblue\", label=\"No heart diease\", ax=axes[1, 0])\n",
    "\n",
    "sns.distplot(df[\"trestbps\"][df[\"target\"]==1], color=\"red\", label=\"heart diease\", ax=axes[1, 1])\n",
    "sns.distplot(df[\"trestbps\"][df[\"target\"]==0] , color=\"skyblue\", label=\"No heart diease\", ax=axes[1, 1])\n",
    "plt.legend()\n",
    "\n",
    "plt.show()\n"
   ]
  },
  {
   "cell_type": "code",
   "execution_count": 49,
   "metadata": {},
   "outputs": [
    {
     "data": {
      "text/plain": [
       "<function matplotlib.pyplot.show>"
      ]
     },
     "execution_count": 49,
     "metadata": {},
     "output_type": "execute_result"
    },
    {
     "data": {
      "image/png": "[encoded data removed]",
      "text/plain": [
       "<matplotlib.figure.Figure at 0x24e4dc66198>"
      ]
     },
     "metadata": {},
     "output_type": "display_data"
    }
   ],
   "source": [
    "sns.heatmap(df.corr(),annot=True,cmap='RdYlGn') \n",
    "fig=plt.gcf()\n",
    "fig.set_size_inches(10,8)\n",
    "plt.show\n",
    "\n",
    "# Well, there is nothing too striking in the correlation heatmap"
   ]
  },
  {
   "cell_type": "markdown",
   "metadata": {},
   "source": [
    "# Some data preprocessing"
   ]
  },
  {
   "cell_type": "markdown",
   "metadata": {},
   "source": [
    "Importing Keras modules"
   ]
  },
  {
   "cell_type": "code",
   "execution_count": 3,
   "metadata": {},
   "outputs": [
    {
     "name": "stderr",
     "output_type": "stream",
     "text": [
      "C:\\Users\\HYK\\Anaconda3\\lib\\site-packages\\h5py\\__init__.py:36: FutureWarning: Conversion of the second argument of issubdtype from `float` to `np.floating` is deprecated. In future, it will be treated as `np.float64 == np.dtype(float).type`.\n",
      "  from ._conv import register_converters as _register_converters\n",
      "Using TensorFlow backend.\n"
     ]
    }
   ],
   "source": [
    "from keras.optimizers import SGD \n",
    "\n",
    "from keras.utils import np_utils\n",
    "from keras.models import Sequential # The common deep learning network\n",
    "from keras.layers.core import Dense, Activation\n",
    "from keras.activations import relu, elu, selu, sigmoid, exponential, tanh"
   ]
  },
  {
   "cell_type": "markdown",
   "metadata": {},
   "source": [
    "Y will be the targets 0 or 1 under the targets col while X will be the data in the rest of the cols which we will use as factors that we assume will affect the outcome of the target "
   ]
  },
  {
   "cell_type": "code",
   "execution_count": 4,
   "metadata": {},
   "outputs": [],
   "source": [
    "X = df.drop(\"target\",axis=1)\n",
    "y = df[\"target\"].values"
   ]
  },
  {
   "cell_type": "markdown",
   "metadata": {},
   "source": [
    "Like all modeling practises, we need to split the data up into the training set (the data that we will use to train the model with) and the testing set (the data that we will use to test the accuracy of the model). In this case, I will be spliting it into a 75% (training set), 25% (testing set) ratio"
   ]
  },
  {
   "cell_type": "code",
   "execution_count": 5,
   "metadata": {},
   "outputs": [],
   "source": [
    "X_train, X_test, y_train, y_test = train_test_split(X,y,test_size=0.25,random_state=42)"
   ]
  },
  {
   "cell_type": "markdown",
   "metadata": {},
   "source": [
    "Lets inspect the shape of our training data"
   ]
  },
  {
   "cell_type": "code",
   "execution_count": 6,
   "metadata": {},
   "outputs": [
    {
     "data": {
      "text/plain": [
       "(227, 13)"
      ]
     },
     "execution_count": 6,
     "metadata": {},
     "output_type": "execute_result"
    }
   ],
   "source": [
    "X_train.shape"
   ]
  },
  {
   "cell_type": "code",
   "execution_count": 41,
   "metadata": {},
   "outputs": [
    {
     "data": {
      "text/plain": [
       "(227,)"
      ]
     },
     "execution_count": 41,
     "metadata": {},
     "output_type": "execute_result"
    }
   ],
   "source": [
    "y_train.shape"
   ]
  },
  {
   "cell_type": "markdown",
   "metadata": {},
   "source": [
    "# Scalling the data"
   ]
  },
  {
   "cell_type": "markdown",
   "metadata": {},
   "source": [
    "As for most datasets out there, it is necessary to scale the data before fitting it with our model"
   ]
  },
  {
   "cell_type": "code",
   "execution_count": 7,
   "metadata": {},
   "outputs": [],
   "source": [
    "scaler = StandardScaler()"
   ]
  },
  {
   "cell_type": "code",
   "execution_count": 8,
   "metadata": {},
   "outputs": [],
   "source": [
    "X_train_scaled = scaler.fit_transform(X_train)\n",
    "X_test_scaled  = scaler.fit_transform(X_test)"
   ]
  },
  {
   "cell_type": "markdown",
   "metadata": {},
   "source": [
    "For my keras model, there is one parameter that I do not want to change, that is the number of classes that my model has to predict, hence, I will set a variable to it"
   ]
  },
  {
   "cell_type": "code",
   "execution_count": 9,
   "metadata": {},
   "outputs": [],
   "source": [
    "NB_CLASSES = 2 # Number of classes to predict"
   ]
  },
  {
   "cell_type": "markdown",
   "metadata": {},
   "source": [
    "Binarising the target variables \n"
   ]
  },
  {
   "cell_type": "code",
   "execution_count": 10,
   "metadata": {},
   "outputs": [],
   "source": [
    "y_train_new = np_utils.to_categorical(y_train,NB_CLASSES)\n",
    "y_test_new = np_utils.to_categorical(y_test,NB_CLASSES)"
   ]
  },
  {
   "cell_type": "markdown",
   "metadata": {},
   "source": [
    "# Import talos"
   ]
  },
  {
   "cell_type": "markdown",
   "metadata": {},
   "source": [
    "Importing talos which can be use as hyperparameter optimization for our keras model"
   ]
  },
  {
   "cell_type": "code",
   "execution_count": 11,
   "metadata": {},
   "outputs": [],
   "source": [
    "import talos as ts"
   ]
  },
  {
   "cell_type": "markdown",
   "metadata": {},
   "source": [
    "Now, I will be setting the values that I want to test out for the hyperparameters of my model. In all I will be setting 6 different hyperparameters with a set of values that I want to test out "
   ]
  },
  {
   "cell_type": "code",
   "execution_count": 12,
   "metadata": {},
   "outputs": [],
   "source": [
    "from keras.activations import relu, elu, selu, sigmoid, exponential, tanh\n",
    "\n",
    "p = {\n",
    "    'activation': [relu, elu, selu, sigmoid, exponential, tanh],\n",
    "    'batch_size': [64,128,256],\n",
    "    'First_Neron' : [64,128,256],\n",
    "    'Second_Neron' : [64,128,256],\n",
    "    'Third_Neron' : [64,128,256],\n",
    "    'epochs': [50,100,150,200]\n",
    "}"
   ]
  },
  {
   "cell_type": "markdown",
   "metadata": {},
   "source": [
    "# Building our keras model for hyperparameter optimization"
   ]
  },
  {
   "cell_type": "markdown",
   "metadata": {},
   "source": [
    "For our model, I've a function that will build, compile and fit the model with the training data, The model have has to be of a standard structure before testing in terms of the number of hidden layers. In this case, I've decided to use 3 dense layers only. However, If you were to look closer, this model is a bit different from how a keras model is normally builded as the hyperparameters that I've decided to finetune are fitted with the variable 'params' which will then be scanned by talos."
   ]
  },
  {
   "cell_type": "code",
   "execution_count": 13,
   "metadata": {},
   "outputs": [],
   "source": [
    "def get_model_talos(X_train,y_train,X_test,y_test,params):\n",
    "    model = Sequential() # load the sequential model\n",
    "    model.add(Dense(NB_CLASSES, input_shape=(13,), activation=params['activation'])) # add a dense layer\n",
    "    model.add(Dense(params['First_Neron'], input_shape=(13,), activation=params['activation']))\n",
    "    model.add(Dense(params['Second_Neron'], input_shape=(13,), activation=params['activation']))\n",
    "    model.add(Dense(params['Third_Neron'], input_shape=(13,), activation=params['activation']))\n",
    "    model.add(Dense(NB_CLASSES, input_shape=(13,))) # add a dense layer\n",
    "    model.add(Activation('softmax'))\n",
    "    \n",
    "    model.compile(loss='binary_crossentropy', optimizer=SGD(), metrics=['accuracy'])\n",
    "    out = model.fit(X_train, y_train,\n",
    "                    epochs=params['epochs'],\n",
    "                    batch_size=params['batch_size'],\n",
    "                    validation_data=(X_test,y_test),\n",
    "                    verbose=0)\n",
    "            \n",
    "    return out, model"
   ]
  },
  {
   "cell_type": "markdown",
   "metadata": {},
   "source": [
    "Once we have created our model, we use Scan() to perform hyper parameter optimization on the 6 hyperparameters that I've selected and the values that I want to test it out on."
   ]
  },
  {
   "cell_type": "code",
   "execution_count": 14,
   "metadata": {
    "scrolled": true
   },
   "outputs": [
    {
     "name": "stderr",
     "output_type": "stream",
     "text": [
      "100%|██████████| 1944/1944 [45:18<00:00,  1.33s/it] \n"
     ]
    },
    {
     "name": "stdout",
     "output_type": "stream",
     "text": [
      "Scan Finished!\n"
     ]
    }
   ],
   "source": [
    "t = ts.Scan(x=X_train_scaled, y=y_train_new, x_val=X_test_scaled, y_val=y_test_new, params=p, model=get_model_talos)"
   ]
  },
  {
   "cell_type": "markdown",
   "metadata": {},
   "source": [
    "As you can see, the process will take quite long so, if you were to try this out, I would recommend going for the a coffee break or 2 while we wait for the tunning to complete."
   ]
  },
  {
   "cell_type": "markdown",
   "metadata": {},
   "source": [
    "Note that talos works the same as gridsearchCV or RandomSearchCV, the more hyperparameter values you want to test out, the more time it will take to finetune those parameters"
   ]
  },
  {
   "cell_type": "markdown",
   "metadata": {},
   "source": [
    "Once the tunning is done, we want to see the results of the tunning, To do this, I will be using Reporting() from talos"
   ]
  },
  {
   "cell_type": "code",
   "execution_count": 16,
   "metadata": {},
   "outputs": [],
   "source": [
    "from talos import Reporting\n",
    "r = Reporting(t)"
   ]
  },
  {
   "cell_type": "markdown",
   "metadata": {},
   "source": [
    "The high() returns the highest evaluation metric in your hyperparameter optimization, In my case, it would be the validation accuracy "
   ]
  },
  {
   "cell_type": "code",
   "execution_count": 17,
   "metadata": {},
   "outputs": [
    {
     "data": {
      "text/plain": [
       "'0.8947368452423498'"
      ]
     },
     "execution_count": 17,
     "metadata": {},
     "output_type": "execute_result"
    }
   ],
   "source": [
    "r.high()"
   ]
  },
  {
   "cell_type": "markdown",
   "metadata": {},
   "source": [
    "Hmmm, not too bad, I think I'm going to stick with this result"
   ]
  },
  {
   "cell_type": "markdown",
   "metadata": {},
   "source": [
    "Lets see what round of optimization is that"
   ]
  },
  {
   "cell_type": "code",
   "execution_count": 22,
   "metadata": {},
   "outputs": [
    {
     "data": {
      "text/plain": [
       "271"
      ]
     },
     "execution_count": 22,
     "metadata": {},
     "output_type": "execute_result"
    }
   ],
   "source": [
    "r.rounds2high()"
   ]
  },
  {
   "cell_type": "markdown",
   "metadata": {},
   "source": [
    "I would also like to see remaining model parameters that came close to the highest validation accuracy as well"
   ]
  },
  {
   "cell_type": "code",
   "execution_count": 19,
   "metadata": {},
   "outputs": [],
   "source": [
    "frame = t.data"
   ]
  },
  {
   "cell_type": "code",
   "execution_count": 21,
   "metadata": {},
   "outputs": [
    {
     "data": {
      "text/html": [
       "<div>\n",
       "<style scoped>\n",
       "    .dataframe tbody tr th:only-of-type {\n",
       "        vertical-align: middle;\n",
       "    }\n",
       "\n",
       "    .dataframe tbody tr th {\n",
       "        vertical-align: top;\n",
       "    }\n",
       "\n",
       "    .dataframe thead th {\n",
       "        text-align: right;\n",
       "    }\n",
       "</style>\n",
       "<table border=\"1\" class=\"dataframe\">\n",
       "  <thead>\n",
       "    <tr style=\"text-align: right;\">\n",
       "      <th></th>\n",
       "      <th>round_epochs</th>\n",
       "      <th>val_loss</th>\n",
       "      <th>val_acc</th>\n",
       "      <th>loss</th>\n",
       "      <th>acc</th>\n",
       "      <th>activation</th>\n",
       "      <th>batch_size</th>\n",
       "      <th>First_Neron</th>\n",
       "      <th>Second_Neron</th>\n",
       "      <th>Third_Neron</th>\n",
       "      <th>epochs</th>\n",
       "    </tr>\n",
       "  </thead>\n",
       "  <tbody>\n",
       "    <tr>\n",
       "      <th>163</th>\n",
       "      <td>200</td>\n",
       "      <td>0.3186315596103668</td>\n",
       "      <td>0.8947368264198303</td>\n",
       "      <td>0.4012680183685824</td>\n",
       "      <td>0.8325991084397102</td>\n",
       "      <td>&lt;function tanh at 0x0000024DD65A4D08&gt;</td>\n",
       "      <td>128</td>\n",
       "      <td>128</td>\n",
       "      <td>256</td>\n",
       "      <td>128</td>\n",
       "      <td>200</td>\n",
       "    </tr>\n",
       "    <tr>\n",
       "      <th>271</th>\n",
       "      <td>200</td>\n",
       "      <td>0.35769385569973994</td>\n",
       "      <td>0.8947368452423498</td>\n",
       "      <td>0.3711878898910489</td>\n",
       "      <td>0.8414096934679847</td>\n",
       "      <td>&lt;function elu at 0x0000024DD65A4A60&gt;</td>\n",
       "      <td>64</td>\n",
       "      <td>64</td>\n",
       "      <td>256</td>\n",
       "      <td>128</td>\n",
       "      <td>200</td>\n",
       "    </tr>\n",
       "    <tr>\n",
       "      <th>291</th>\n",
       "      <td>150</td>\n",
       "      <td>0.31931535036940323</td>\n",
       "      <td>0.8947368389681766</td>\n",
       "      <td>0.34239984819017316</td>\n",
       "      <td>0.8854625571666835</td>\n",
       "      <td>&lt;function selu at 0x0000024DD65A4AE8&gt;</td>\n",
       "      <td>64</td>\n",
       "      <td>128</td>\n",
       "      <td>128</td>\n",
       "      <td>128</td>\n",
       "      <td>150</td>\n",
       "    </tr>\n",
       "    <tr>\n",
       "      <th>521</th>\n",
       "      <td>150</td>\n",
       "      <td>0.38683407400783737</td>\n",
       "      <td>0.8947368452423498</td>\n",
       "      <td>0.3606863164954249</td>\n",
       "      <td>0.8502202664177848</td>\n",
       "      <td>&lt;function selu at 0x0000024DD65A4AE8&gt;</td>\n",
       "      <td>64</td>\n",
       "      <td>64</td>\n",
       "      <td>64</td>\n",
       "      <td>64</td>\n",
       "      <td>150</td>\n",
       "    </tr>\n",
       "    <tr>\n",
       "      <th>532</th>\n",
       "      <td>150</td>\n",
       "      <td>0.3436183192228016</td>\n",
       "      <td>0.8947368452423498</td>\n",
       "      <td>0.35592788996150315</td>\n",
       "      <td>0.8634361246608953</td>\n",
       "      <td>&lt;function tanh at 0x0000024DD65A4D08&gt;</td>\n",
       "      <td>64</td>\n",
       "      <td>128</td>\n",
       "      <td>128</td>\n",
       "      <td>256</td>\n",
       "      <td>150</td>\n",
       "    </tr>\n",
       "    <tr>\n",
       "      <th>660</th>\n",
       "      <td>150</td>\n",
       "      <td>0.33683972295961884</td>\n",
       "      <td>0.8947368452423498</td>\n",
       "      <td>0.38469195536579853</td>\n",
       "      <td>0.8105726890626983</td>\n",
       "      <td>&lt;function selu at 0x0000024DD65A4AE8&gt;</td>\n",
       "      <td>64</td>\n",
       "      <td>64</td>\n",
       "      <td>256</td>\n",
       "      <td>128</td>\n",
       "      <td>150</td>\n",
       "    </tr>\n",
       "    <tr>\n",
       "      <th>711</th>\n",
       "      <td>200</td>\n",
       "      <td>0.3951923015870546</td>\n",
       "      <td>0.8947368452423498</td>\n",
       "      <td>0.38740209178252366</td>\n",
       "      <td>0.8149779759314617</td>\n",
       "      <td>&lt;function tanh at 0x0000024DD65A4D08&gt;</td>\n",
       "      <td>64</td>\n",
       "      <td>64</td>\n",
       "      <td>64</td>\n",
       "      <td>64</td>\n",
       "      <td>200</td>\n",
       "    </tr>\n",
       "    <tr>\n",
       "      <th>790</th>\n",
       "      <td>150</td>\n",
       "      <td>0.3447280196767104</td>\n",
       "      <td>0.8947368452423498</td>\n",
       "      <td>0.3988974573591207</td>\n",
       "      <td>0.8193832625376496</td>\n",
       "      <td>&lt;function tanh at 0x0000024DD65A4D08&gt;</td>\n",
       "      <td>64</td>\n",
       "      <td>128</td>\n",
       "      <td>256</td>\n",
       "      <td>128</td>\n",
       "      <td>150</td>\n",
       "    </tr>\n",
       "    <tr>\n",
       "      <th>819</th>\n",
       "      <td>150</td>\n",
       "      <td>0.37289270601774516</td>\n",
       "      <td>0.8947368452423498</td>\n",
       "      <td>0.39701531925915623</td>\n",
       "      <td>0.8149779756688862</td>\n",
       "      <td>&lt;function elu at 0x0000024DD65A4A60&gt;</td>\n",
       "      <td>64</td>\n",
       "      <td>128</td>\n",
       "      <td>64</td>\n",
       "      <td>256</td>\n",
       "      <td>150</td>\n",
       "    </tr>\n",
       "    <tr>\n",
       "      <th>1347</th>\n",
       "      <td>200</td>\n",
       "      <td>0.3597933351993561</td>\n",
       "      <td>0.8947368452423498</td>\n",
       "      <td>0.36548000298407635</td>\n",
       "      <td>0.8634361246608953</td>\n",
       "      <td>&lt;function selu at 0x0000024DD65A4AE8&gt;</td>\n",
       "      <td>64</td>\n",
       "      <td>64</td>\n",
       "      <td>256</td>\n",
       "      <td>64</td>\n",
       "      <td>200</td>\n",
       "    </tr>\n",
       "    <tr>\n",
       "      <th>1548</th>\n",
       "      <td>200</td>\n",
       "      <td>0.35199666023254395</td>\n",
       "      <td>0.8947368452423498</td>\n",
       "      <td>0.3805798553422684</td>\n",
       "      <td>0.8458149800741726</td>\n",
       "      <td>&lt;function elu at 0x0000024DD65A4A60&gt;</td>\n",
       "      <td>64</td>\n",
       "      <td>256</td>\n",
       "      <td>128</td>\n",
       "      <td>256</td>\n",
       "      <td>200</td>\n",
       "    </tr>\n",
       "    <tr>\n",
       "      <th>1575</th>\n",
       "      <td>200</td>\n",
       "      <td>0.3813769817352295</td>\n",
       "      <td>0.8947368264198303</td>\n",
       "      <td>0.38399503869107116</td>\n",
       "      <td>0.8237885349647589</td>\n",
       "      <td>&lt;function selu at 0x0000024DD65A4AE8&gt;</td>\n",
       "      <td>128</td>\n",
       "      <td>128</td>\n",
       "      <td>64</td>\n",
       "      <td>128</td>\n",
       "      <td>200</td>\n",
       "    </tr>\n",
       "    <tr>\n",
       "      <th>1597</th>\n",
       "      <td>200</td>\n",
       "      <td>0.3750513227362382</td>\n",
       "      <td>0.8947368452423498</td>\n",
       "      <td>0.36226456188945516</td>\n",
       "      <td>0.8414096934679847</td>\n",
       "      <td>&lt;function selu at 0x0000024DD65A4AE8&gt;</td>\n",
       "      <td>64</td>\n",
       "      <td>256</td>\n",
       "      <td>256</td>\n",
       "      <td>64</td>\n",
       "      <td>200</td>\n",
       "    </tr>\n",
       "    <tr>\n",
       "      <th>1625</th>\n",
       "      <td>150</td>\n",
       "      <td>0.3698076495998784</td>\n",
       "      <td>0.8947368452423498</td>\n",
       "      <td>0.390065095629461</td>\n",
       "      <td>0.8149779759314617</td>\n",
       "      <td>&lt;function elu at 0x0000024DD65A4A60&gt;</td>\n",
       "      <td>64</td>\n",
       "      <td>128</td>\n",
       "      <td>128</td>\n",
       "      <td>64</td>\n",
       "      <td>150</td>\n",
       "    </tr>\n",
       "    <tr>\n",
       "      <th>1692</th>\n",
       "      <td>150</td>\n",
       "      <td>0.36612759452117116</td>\n",
       "      <td>0.8947368452423498</td>\n",
       "      <td>0.37417993842242575</td>\n",
       "      <td>0.8325991199930334</td>\n",
       "      <td>&lt;function selu at 0x0000024DD65A4AE8&gt;</td>\n",
       "      <td>64</td>\n",
       "      <td>256</td>\n",
       "      <td>128</td>\n",
       "      <td>256</td>\n",
       "      <td>150</td>\n",
       "    </tr>\n",
       "    <tr>\n",
       "      <th>1749</th>\n",
       "      <td>200</td>\n",
       "      <td>0.32128700613975525</td>\n",
       "      <td>0.8947368264198303</td>\n",
       "      <td>0.3748140163096037</td>\n",
       "      <td>0.8414097018704015</td>\n",
       "      <td>&lt;function tanh at 0x0000024DD65A4D08&gt;</td>\n",
       "      <td>128</td>\n",
       "      <td>128</td>\n",
       "      <td>64</td>\n",
       "      <td>128</td>\n",
       "      <td>200</td>\n",
       "    </tr>\n",
       "    <tr>\n",
       "      <th>1751</th>\n",
       "      <td>100</td>\n",
       "      <td>0.36853908394512375</td>\n",
       "      <td>0.8947368452423498</td>\n",
       "      <td>0.3933286162725104</td>\n",
       "      <td>0.8237885473058087</td>\n",
       "      <td>&lt;function selu at 0x0000024DD65A4AE8&gt;</td>\n",
       "      <td>64</td>\n",
       "      <td>64</td>\n",
       "      <td>64</td>\n",
       "      <td>128</td>\n",
       "      <td>100</td>\n",
       "    </tr>\n",
       "    <tr>\n",
       "      <th>1843</th>\n",
       "      <td>150</td>\n",
       "      <td>0.3400033147711503</td>\n",
       "      <td>0.8947368389681766</td>\n",
       "      <td>0.39336299633664706</td>\n",
       "      <td>0.8325991213059111</td>\n",
       "      <td>&lt;function tanh at 0x0000024DD65A4D08&gt;</td>\n",
       "      <td>64</td>\n",
       "      <td>256</td>\n",
       "      <td>64</td>\n",
       "      <td>128</td>\n",
       "      <td>150</td>\n",
       "    </tr>\n",
       "  </tbody>\n",
       "</table>\n",
       "</div>"
      ],
      "text/plain": [
       "     round_epochs             val_loss             val_acc  \\\n",
       "163           200   0.3186315596103668  0.8947368264198303   \n",
       "271           200  0.35769385569973994  0.8947368452423498   \n",
       "291           150  0.31931535036940323  0.8947368389681766   \n",
       "521           150  0.38683407400783737  0.8947368452423498   \n",
       "532           150   0.3436183192228016  0.8947368452423498   \n",
       "660           150  0.33683972295961884  0.8947368452423498   \n",
       "711           200   0.3951923015870546  0.8947368452423498   \n",
       "790           150   0.3447280196767104  0.8947368452423498   \n",
       "819           150  0.37289270601774516  0.8947368452423498   \n",
       "1347          200   0.3597933351993561  0.8947368452423498   \n",
       "1548          200  0.35199666023254395  0.8947368452423498   \n",
       "1575          200   0.3813769817352295  0.8947368264198303   \n",
       "1597          200   0.3750513227362382  0.8947368452423498   \n",
       "1625          150   0.3698076495998784  0.8947368452423498   \n",
       "1692          150  0.36612759452117116  0.8947368452423498   \n",
       "1749          200  0.32128700613975525  0.8947368264198303   \n",
       "1751          100  0.36853908394512375  0.8947368452423498   \n",
       "1843          150   0.3400033147711503  0.8947368389681766   \n",
       "\n",
       "                     loss                 acc  \\\n",
       "163    0.4012680183685824  0.8325991084397102   \n",
       "271    0.3711878898910489  0.8414096934679847   \n",
       "291   0.34239984819017316  0.8854625571666835   \n",
       "521    0.3606863164954249  0.8502202664177848   \n",
       "532   0.35592788996150315  0.8634361246608953   \n",
       "660   0.38469195536579853  0.8105726890626983   \n",
       "711   0.38740209178252366  0.8149779759314617   \n",
       "790    0.3988974573591207  0.8193832625376496   \n",
       "819   0.39701531925915623  0.8149779756688862   \n",
       "1347  0.36548000298407635  0.8634361246608953   \n",
       "1548   0.3805798553422684  0.8458149800741726   \n",
       "1575  0.38399503869107116  0.8237885349647589   \n",
       "1597  0.36226456188945516  0.8414096934679847   \n",
       "1625    0.390065095629461  0.8149779759314617   \n",
       "1692  0.37417993842242575  0.8325991199930334   \n",
       "1749   0.3748140163096037  0.8414097018704015   \n",
       "1751   0.3933286162725104  0.8237885473058087   \n",
       "1843  0.39336299633664706  0.8325991213059111   \n",
       "\n",
       "                                 activation batch_size First_Neron  \\\n",
       "163   <function tanh at 0x0000024DD65A4D08>        128         128   \n",
       "271    <function elu at 0x0000024DD65A4A60>         64          64   \n",
       "291   <function selu at 0x0000024DD65A4AE8>         64         128   \n",
       "521   <function selu at 0x0000024DD65A4AE8>         64          64   \n",
       "532   <function tanh at 0x0000024DD65A4D08>         64         128   \n",
       "660   <function selu at 0x0000024DD65A4AE8>         64          64   \n",
       "711   <function tanh at 0x0000024DD65A4D08>         64          64   \n",
       "790   <function tanh at 0x0000024DD65A4D08>         64         128   \n",
       "819    <function elu at 0x0000024DD65A4A60>         64         128   \n",
       "1347  <function selu at 0x0000024DD65A4AE8>         64          64   \n",
       "1548   <function elu at 0x0000024DD65A4A60>         64         256   \n",
       "1575  <function selu at 0x0000024DD65A4AE8>        128         128   \n",
       "1597  <function selu at 0x0000024DD65A4AE8>         64         256   \n",
       "1625   <function elu at 0x0000024DD65A4A60>         64         128   \n",
       "1692  <function selu at 0x0000024DD65A4AE8>         64         256   \n",
       "1749  <function tanh at 0x0000024DD65A4D08>        128         128   \n",
       "1751  <function selu at 0x0000024DD65A4AE8>         64          64   \n",
       "1843  <function tanh at 0x0000024DD65A4D08>         64         256   \n",
       "\n",
       "     Second_Neron Third_Neron epochs  \n",
       "163           256         128    200  \n",
       "271           256         128    200  \n",
       "291           128         128    150  \n",
       "521            64          64    150  \n",
       "532           128         256    150  \n",
       "660           256         128    150  \n",
       "711            64          64    200  \n",
       "790           256         128    150  \n",
       "819            64         256    150  \n",
       "1347          256          64    200  \n",
       "1548          128         256    200  \n",
       "1575           64         128    200  \n",
       "1597          256          64    200  \n",
       "1625          128          64    150  \n",
       "1692          128         256    150  \n",
       "1749           64         128    200  \n",
       "1751           64         128    100  \n",
       "1843           64         128    150  "
      ]
     },
     "execution_count": 21,
     "metadata": {},
     "output_type": "execute_result"
    }
   ],
   "source": [
    "frame[frame[\"val_acc\"] >= '0.89']"
   ]
  },
  {
   "cell_type": "markdown",
   "metadata": {},
   "source": [
    "test number 1864 list of parameters"
   ]
  },
  {
   "cell_type": "markdown",
   "metadata": {},
   "source": [
    "# Deploying the model using talos"
   ]
  },
  {
   "cell_type": "markdown",
   "metadata": {},
   "source": [
    "I'm statisfied with the validation accuracy result above so I'm going to save my model details so that I can use it again in the future.\n",
    "To do this, I'm going to use Deploy() and Restore() to save and load up my model using talos\n",
    "Note that the Deploy() will automatically take in the best model parameters for your model based on your specified evaluation metric when tunning the hyperparameters earlier."
   ]
  },
  {
   "cell_type": "code",
   "execution_count": 26,
   "metadata": {},
   "outputs": [
    {
     "name": "stdout",
     "output_type": "stream",
     "text": [
      "Deploy package heart_diease_predmodel have been saved.\n"
     ]
    }
   ],
   "source": [
    "ts.Deploy(t, 'heart_diease_predmodel');"
   ]
  },
  {
   "cell_type": "code",
   "execution_count": 28,
   "metadata": {},
   "outputs": [],
   "source": [
    "heart_diease_predmodel = ts.Restore('heart_diease_predmodel.zip')"
   ]
  },
  {
   "cell_type": "markdown",
   "metadata": {},
   "source": [
    "Once that is done, I can use the model to predict my target values by inputing my own X values. As I'm feeling a bit lazy, I'm going to reuse by X_test data as a demonstration"
   ]
  },
  {
   "cell_type": "code",
   "execution_count": 40,
   "metadata": {},
   "outputs": [
    {
     "data": {
      "text/plain": [
       "array([0, 1, 1, 0, 1, 1, 1, 0, 0, 0, 1, 0, 1, 0, 1, 1, 1, 0, 0, 0, 1, 0,\n",
       "       0, 1, 1, 1, 1, 1, 0, 1, 0, 0, 0, 0, 1, 0, 1, 1, 1, 1, 1, 1, 1, 1,\n",
       "       1, 0, 1, 1, 0, 0, 0, 0, 1, 1, 0, 0, 0, 1, 0, 0, 0, 1, 0, 0, 1, 0,\n",
       "       1, 1, 1, 1, 1, 1, 1, 1, 0, 1], dtype=int64)"
      ]
     },
     "execution_count": 40,
     "metadata": {},
     "output_type": "execute_result"
    }
   ],
   "source": [
    "heart_diease_predmodel.model.predict_classes(X_test_scaled)"
   ]
  },
  {
   "cell_type": "markdown",
   "metadata": {},
   "source": [
    "Of course, I can try and continue to raise the accuracy of the model by trying out more possible hyperparameter choices, doing some feature engineering or changing the structure of my model but all in all, I think talos demonstrated the efficiency in which a keras model can be fine tunned and builded."
   ]
  },
  {
   "cell_type": "markdown",
   "metadata": {},
   "source": [
    "In conclusion, I just want to thank the creators of talos for such an awesome library. It really makes hyperparameter optimization much more efficient for deep learning models. This is my first kernel published on hyperparameter optimization on deep learning models as well as my first kernel on Kaggle and any form of constructuctive feedbacks are appreciated. Thank You"
   ]
  },
  {
   "cell_type": "code",
   "execution_count": null,
   "metadata": {},
   "outputs": [],
   "source": []
  }
 ],
 "metadata": {
  "kernelspec": {
   "display_name": "Python 3",
   "language": "python",
   "name": "python3"
  },
  "language_info": {
   "codemirror_mode": {
    "name": "ipython",
    "version": 3
   },
   "file_extension": ".py",
   "mimetype": "text/x-python",
   "name": "python",
   "nbconvert_exporter": "python",
   "pygments_lexer": "ipython3",
   "version": "3.6.4"
  }
 },
 "nbformat": 4,
 "nbformat_minor": 2
}
